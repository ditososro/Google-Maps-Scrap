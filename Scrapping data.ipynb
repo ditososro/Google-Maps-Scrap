{
 "metadata": {
  "language_info": {
   "codemirror_mode": {
    "name": "ipython",
    "version": 3
   },
   "file_extension": ".py",
   "mimetype": "text/x-python",
   "name": "python",
   "nbconvert_exporter": "python",
   "pygments_lexer": "ipython3",
   "version": "3.8.1"
  },
  "orig_nbformat": 2,
  "kernelspec": {
   "name": "python3",
   "display_name": "Python 3.8.1 32-bit"
  },
  "interpreter": {
   "hash": "712eb5c2c365eb5067f254956bffede791dbef75e1196cc9964b637cd5b1114d"
  }
 },
 "nbformat": 4,
 "nbformat_minor": 2,
 "cells": [
  {
   "source": [
    "Library Download"
   ],
   "cell_type": "markdown",
   "metadata": {}
  },
  {
   "source": [
    "from selenium import webdriver\n",
    "from selenium.webdriver.common.by import By\n",
    "from selenium.webdriver.support.ui import WebDriverWait\n",
    "from selenium.webdriver.support import expected_conditions as EC\n",
    "from selenium.common.exceptions import TimeoutException\n",
    "import pandas as pd\n",
    "import requests\n",
    "from selenium.webdriver.common.desired_capabilities import DesiredCapabilities\n",
    "from selenium.webdriver.common.action_chains import ActionChains\n",
    "from selenium.common.exceptions import NoSuchElementException\n",
    "import time\n",
    "from options import Options\n",
    "\n",
    "driver = webdriver.Chrome(executable_path=\"D:\\Python\\Driver\\Chrome\\chromedriver.exe\")\n",
    "url =\"https://www.google.it/maps/place/Anteraja/@-6.224705,106.8278741,17z/data=!3m1!4b1!4m5!3m4!1s0x2e69f302656f37b5:0xe80bb4258dbec662!8m2!3d-6.224705!4d106.8300628\"\n",
    "driver.get(url)"
   ],
   "cell_type": "code",
   "metadata": {},
   "execution_count": 1,
   "outputs": []
  },
  {
   "cell_type": "code",
   "execution_count": 2,
   "metadata": {},
   "outputs": [],
   "source": [
    "def click_review(x):    \n",
    "    wait = WebDriverWait(driver, 10)\n",
    "    menu_bt = wait.until(EC.element_to_be_clickable(\n",
    "                       (By.XPATH, '//button[@data-value=\\'Urutkan\\']'))\n",
    "                   )  \n",
    "    menu_bt.click()\n",
    "    recent_rating_bt = driver.find_elements_by_xpath(\n",
    "                                     '//li[@role=\\'menuitemradio\\']')[x]\n",
    "    recent_rating_bt.click()\n",
    "    time.sleep(5)\n",
    "\n",
    "click_review(1)"
   ]
  },
  {
   "cell_type": "code",
   "execution_count": 11,
   "metadata": {},
   "outputs": [
    {
     "output_type": "error",
     "ename": "KeyboardInterrupt",
     "evalue": "",
     "traceback": [
      "\u001b[1;31m---------------------------------------------------------------------------\u001b[0m",
      "\u001b[1;31mKeyboardInterrupt\u001b[0m                         Traceback (most recent call last)",
      "\u001b[1;32m<ipython-input-11-2f00e29eb770>\u001b[0m in \u001b[0;36m<module>\u001b[1;34m\u001b[0m\n\u001b[0;32m     10\u001b[0m     \u001b[1;32mexcept\u001b[0m\u001b[1;33m:\u001b[0m\u001b[1;33m\u001b[0m\u001b[1;33m\u001b[0m\u001b[0m\n\u001b[0;32m     11\u001b[0m         \u001b[1;32mpass\u001b[0m\u001b[1;33m\u001b[0m\u001b[1;33m\u001b[0m\u001b[0m\n\u001b[1;32m---> 12\u001b[1;33m     \u001b[0mtime\u001b[0m\u001b[1;33m.\u001b[0m\u001b[0msleep\u001b[0m\u001b[1;33m(\u001b[0m\u001b[0mpause_time\u001b[0m\u001b[1;33m)\u001b[0m \u001b[1;31m# wait for more reviews to load.\u001b[0m\u001b[1;33m\u001b[0m\u001b[1;33m\u001b[0m\u001b[0m\n\u001b[0m\u001b[0;32m     13\u001b[0m     \u001b[0mx\u001b[0m\u001b[1;33m=\u001b[0m\u001b[0mx\u001b[0m\u001b[1;33m+\u001b[0m\u001b[1;36m1\u001b[0m\u001b[1;33m\u001b[0m\u001b[1;33m\u001b[0m\u001b[0m\n",
      "\u001b[1;31mKeyboardInterrupt\u001b[0m: "
     ]
    }
   ],
   "source": [
    "WebDriverWait(driver, 10).until(EC.presence_of_element_located((By.XPATH, '//div[@class=\\'section-layout section-scrollbox cYB2Ge-oHo7ed cYB2Ge-ti6hGc\\']'))) # Waits for the page to load.\n",
    "pause_time = 2 # Waiting time after each scroll.\n",
    "max_count = 650 # Number of times we will scroll the scroll bar to the bottom.\n",
    "x = 0\n",
    "\n",
    "while(x<max_count):\n",
    "    scrollable_div = driver.find_element_by_css_selector('div.section-layout.section-scrollbox.cYB2Ge-oHo7ed.cYB2Ge-ti6hGc') # It gets the section of the scroll bar.\n",
    "    try:\n",
    "        driver.execute_script('arguments[0].scrollTop = arguments[0].scrollHeight', scrollable_div)# Scroll it to the bottom.\n",
    "    except:\n",
    "        pass\n",
    "    time.sleep(pause_time) # wait for more reviews to load.\n",
    "    x=x+1"
   ]
  },
  {
   "cell_type": "code",
   "execution_count": 5,
   "metadata": {},
   "outputs": [],
   "source": [
    "from bs4 import BeautifulSoup\n",
    "\n",
    "username = []\n",
    "review_text = []\n",
    "rating = []\n",
    "rel_date = []\n",
    "\n",
    "response = BeautifulSoup(driver.page_source, 'html.parser')\n",
    "rlist = response.find_all('div', class_='ODSEW-ShBeI NIyLF-haAclf gm2-body-2')\n",
    "\n",
    "def scrape():\n",
    "    global response\n",
    "    global rlist\n",
    "    response = BeautifulSoup(driver.page_source, 'html.parser')\n",
    "    rlist = response.find_all('div', class_='ODSEW-ShBeI NIyLF-haAclf gm2-body-2')"
   ]
  },
  {
   "cell_type": "code",
   "execution_count": 6,
   "metadata": {},
   "outputs": [],
   "source": [
    "def get_data():\n",
    "   global username\n",
    "   global review_text\n",
    "   global rating\n",
    "   global rel_date\n",
    "\n",
    "   for r in rlist:\n",
    "      username.append(r.find('div', \n",
    "                  class_='ODSEW-ShBeI-RWgCYc ODSEW-ShBeI-RWgCYc-SfQLQb-BKD3ld').find('span').text) \n",
    "      try:\n",
    "         review_text.append(r.find('span', class_='ODSEW-ShBeI-text').text) \n",
    "      except Exception:\n",
    "         review_text.append(None)\n",
    "      rating.append(r.find('span', class_='ODSEW-ShBeI-H1e3jb')['aria-label']) \n",
    "      rel_date.append(r.find('span', class_='ODSEW-ShBeI-RgZmSc-date').text)  \n",
    "get_data()"
   ]
  },
  {
   "cell_type": "code",
   "execution_count": 7,
   "metadata": {},
   "outputs": [
    {
     "output_type": "execute_result",
     "data": {
      "text/plain": [
       "930"
      ]
     },
     "metadata": {},
     "execution_count": 7
    }
   ],
   "source": [
    "len(rating)"
   ]
  },
  {
   "cell_type": "code",
   "execution_count": 10,
   "metadata": {},
   "outputs": [],
   "source": [
    "click_review(3)"
   ]
  },
  {
   "cell_type": "code",
   "execution_count": 12,
   "metadata": {},
   "outputs": [
    {
     "output_type": "execute_result",
     "data": {
      "text/plain": [
       "1860"
      ]
     },
     "metadata": {},
     "execution_count": 12
    }
   ],
   "source": [
    "scrape()\n",
    "get_data()\n",
    "len(rating)"
   ]
  },
  {
   "cell_type": "code",
   "execution_count": 13,
   "metadata": {},
   "outputs": [
    {
     "output_type": "execute_result",
     "data": {
      "text/plain": [
       "           Nama Pengguna       Rating       Tanggal  \\\n",
       "0         Heru Ahyarudin   1 bintang     1 jam lalu   \n",
       "1      Theressia Arlenne   1 bintang     2 jam lalu   \n",
       "2                Jumiani   1 bintang     3 jam lalu   \n",
       "3        Bagus Setiyanto   1 bintang     4 jam lalu   \n",
       "4            Enju Juhana   1 bintang     6 jam lalu   \n",
       "...                  ...          ...           ...   \n",
       "1855            Arga Adi   1 bintang   4 bulan lalu   \n",
       "1856         Ngilo Store   1 bintang   4 bulan lalu   \n",
       "1857      Ariya Vindhika   1 bintang   4 bulan lalu   \n",
       "1858  Eka Fenny Setiawan   1 bintang   4 bulan lalu   \n",
       "1859       Chayadi David   1 bintang   4 bulan lalu   \n",
       "\n",
       "                                                 Review  \n",
       "0     sudah 4 hari paket belum datang juga\\nestimasi...  \n",
       "1                                                        \n",
       "2                                                        \n",
       "3     Yg lain 2-3 hari sampe,ini 3-4 hari gak sampe2...  \n",
       "4                             AnterAja apa Entaraja????  \n",
       "...                                                 ...  \n",
       "1855  Beli barang via tokped iseng\" pake anter aja,e...  \n",
       "1856  Enggak lagi lagi pake jasa pengiriman ini. Dr ...  \n",
       "1857  jakarta - tangerang butuh 5 hari sudah beberap...  \n",
       "1858  Anteraja NEXT DAY CACAT!!!!\\nkalo gak bisa on ...  \n",
       "1859  Mohon maaf harus memberikan review jujur. Seba...  \n",
       "\n",
       "[1860 rows x 4 columns]"
      ],
      "text/html": "<div>\n<style scoped>\n    .dataframe tbody tr th:only-of-type {\n        vertical-align: middle;\n    }\n\n    .dataframe tbody tr th {\n        vertical-align: top;\n    }\n\n    .dataframe thead th {\n        text-align: right;\n    }\n</style>\n<table border=\"1\" class=\"dataframe\">\n  <thead>\n    <tr style=\"text-align: right;\">\n      <th></th>\n      <th>Nama Pengguna</th>\n      <th>Rating</th>\n      <th>Tanggal</th>\n      <th>Review</th>\n    </tr>\n  </thead>\n  <tbody>\n    <tr>\n      <th>0</th>\n      <td>Heru Ahyarudin</td>\n      <td>1 bintang</td>\n      <td>1 jam lalu</td>\n      <td>sudah 4 hari paket belum datang juga\\nestimasi...</td>\n    </tr>\n    <tr>\n      <th>1</th>\n      <td>Theressia Arlenne</td>\n      <td>1 bintang</td>\n      <td>2 jam lalu</td>\n      <td></td>\n    </tr>\n    <tr>\n      <th>2</th>\n      <td>Jumiani</td>\n      <td>1 bintang</td>\n      <td>3 jam lalu</td>\n      <td></td>\n    </tr>\n    <tr>\n      <th>3</th>\n      <td>Bagus Setiyanto</td>\n      <td>1 bintang</td>\n      <td>4 jam lalu</td>\n      <td>Yg lain 2-3 hari sampe,ini 3-4 hari gak sampe2...</td>\n    </tr>\n    <tr>\n      <th>4</th>\n      <td>Enju Juhana</td>\n      <td>1 bintang</td>\n      <td>6 jam lalu</td>\n      <td>AnterAja apa Entaraja????</td>\n    </tr>\n    <tr>\n      <th>...</th>\n      <td>...</td>\n      <td>...</td>\n      <td>...</td>\n      <td>...</td>\n    </tr>\n    <tr>\n      <th>1855</th>\n      <td>Arga Adi</td>\n      <td>1 bintang</td>\n      <td>4 bulan lalu</td>\n      <td>Beli barang via tokped iseng\" pake anter aja,e...</td>\n    </tr>\n    <tr>\n      <th>1856</th>\n      <td>Ngilo Store</td>\n      <td>1 bintang</td>\n      <td>4 bulan lalu</td>\n      <td>Enggak lagi lagi pake jasa pengiriman ini. Dr ...</td>\n    </tr>\n    <tr>\n      <th>1857</th>\n      <td>Ariya Vindhika</td>\n      <td>1 bintang</td>\n      <td>4 bulan lalu</td>\n      <td>jakarta - tangerang butuh 5 hari sudah beberap...</td>\n    </tr>\n    <tr>\n      <th>1858</th>\n      <td>Eka Fenny Setiawan</td>\n      <td>1 bintang</td>\n      <td>4 bulan lalu</td>\n      <td>Anteraja NEXT DAY CACAT!!!!\\nkalo gak bisa on ...</td>\n    </tr>\n    <tr>\n      <th>1859</th>\n      <td>Chayadi David</td>\n      <td>1 bintang</td>\n      <td>4 bulan lalu</td>\n      <td>Mohon maaf harus memberikan review jujur. Seba...</td>\n    </tr>\n  </tbody>\n</table>\n<p>1860 rows × 4 columns</p>\n</div>"
     },
     "metadata": {},
     "execution_count": 13
    }
   ],
   "source": [
    "import numpy as np\n",
    "df = pd.DataFrame(np.column_stack([username, rating, rel_date,review_text]), \n",
    "                               columns=['Nama Pengguna', 'Rating', 'Tanggal','Review'])\n",
    "df"
   ]
  },
  {
   "cell_type": "code",
   "execution_count": 14,
   "metadata": {},
   "outputs": [
    {
     "output_type": "execute_result",
     "data": {
      "text/plain": [
       "di           899\n",
       "barang       539\n",
       "ini          499\n",
       "saya         497\n",
       "ke           461\n",
       "            ... \n",
       "uninstall      1\n",
       "mnding         1\n",
       "interview      1\n",
       "WIB            1\n",
       "under          1\n",
       "Length: 7457, dtype: int64"
      ]
     },
     "metadata": {},
     "execution_count": 14
    }
   ],
   "source": [
    "df.Review.str.split(expand=True).stack().value_counts()"
   ]
  },
  {
   "cell_type": "code",
   "execution_count": 18,
   "metadata": {},
   "outputs": [],
   "source": [
    "df.to_csv('D:/ITB/Lomba PPM/PPM anteraja/maps_scrape.csv')"
   ]
  },
  {
   "cell_type": "code",
   "execution_count": 27,
   "metadata": {},
   "outputs": [
    {
     "output_type": "execute_result",
     "data": {
      "text/plain": [
       "183"
      ]
     },
     "metadata": {},
     "execution_count": 27
    }
   ],
   "source": [
    "df_review = df.Review.str.split(expand=True).stack().value_counts()"
   ]
  },
  {
   "cell_type": "code",
   "execution_count": 29,
   "metadata": {},
   "outputs": [
    {
     "output_type": "execute_result",
     "data": {
      "text/plain": [
       " 1 bintang     1649\n",
       " 5 bintang       95\n",
       " 2 bintang       75\n",
       " 3 bintang       22\n",
       " 4 bintang       19\n",
       "Name: Rating, dtype: int64"
      ]
     },
     "metadata": {},
     "execution_count": 29
    }
   ],
   "source": [
    "df[\"Rating\"].value_counts()"
   ]
  },
  {
   "cell_type": "code",
   "execution_count": null,
   "metadata": {},
   "outputs": [],
   "source": []
  }
 ]
}